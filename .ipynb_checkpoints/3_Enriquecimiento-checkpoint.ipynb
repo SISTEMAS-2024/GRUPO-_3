{
 "cells": [
  {
   "cell_type": "markdown",
   "id": "a44ae8fd-d713-4931-be5a-3b3bc896f378",
   "metadata": {},
   "source": [
    "### Actividad Grupal: Análisis de Datos del Municipio de Monterrey (DATOS DEL 2015)\n",
    "### INTEGRANTES GRUPO 3:\n",
    "#### •\tALDAZ RIVERA DANI ALEXANDER \n",
    "#### •\tBONILLA VIMOS WASHINGTON RAMIRO\n",
    "### Parte 3 : Enriquecimiento"
   ]
  },
  {
   "cell_type": "code",
   "execution_count": 1,
   "id": "06e5e23e-2362-45c0-8981-93385ad73fbd",
   "metadata": {},
   "outputs": [],
   "source": [
    "# importa la libreria de pandas\n",
    "%matplotlib inline\n",
    "import pandas as pd"
   ]
  },
  {
   "cell_type": "code",
   "execution_count": 6,
   "id": "95c0349f-ebc9-474f-aac7-7e839c786d3c",
   "metadata": {},
   "outputs": [],
   "source": [
    "# Ruta de la carpeta que contiene los archivos\n",
    "df_2015 = pd.read_excel('C:/data/2015.xlsx', sheet_name='Sheet1')"
   ]
  },
  {
   "cell_type": "code",
   "execution_count": 7,
   "id": "e9e36587-6c83-450b-aa36-2d30b7bdcaa3",
   "metadata": {},
   "outputs": [
    {
     "data": {
      "text/html": [
       "<div>\n",
       "<style scoped>\n",
       "    .dataframe tbody tr th:only-of-type {\n",
       "        vertical-align: middle;\n",
       "    }\n",
       "\n",
       "    .dataframe tbody tr th {\n",
       "        vertical-align: top;\n",
       "    }\n",
       "\n",
       "    .dataframe thead th {\n",
       "        text-align: right;\n",
       "    }\n",
       "</style>\n",
       "<table border=\"1\" class=\"dataframe\">\n",
       "  <thead>\n",
       "    <tr style=\"text-align: right;\">\n",
       "      <th></th>\n",
       "      <th>FECHA</th>\n",
       "      <th>FACTURA</th>\n",
       "      <th>BENEFICIARIO</th>\n",
       "      <th>RFC</th>\n",
       "      <th>CONCEPTO</th>\n",
       "      <th>IMPORTE</th>\n",
       "      <th>FECHA DEL PAGO POR CADENAS</th>\n",
       "      <th>FUENTE</th>\n",
       "    </tr>\n",
       "  </thead>\n",
       "  <tbody>\n",
       "    <tr>\n",
       "      <th>0</th>\n",
       "      <td>2015-01-30</td>\n",
       "      <td>70</td>\n",
       "      <td>CONSTCOMER, S.A. DE C.V.</td>\n",
       "      <td>CON-060323-F88</td>\n",
       "      <td>EQUIPAMIENTO  PARA PARQUES Y PLAZAS</td>\n",
       "      <td>2173840.0</td>\n",
       "      <td>NaT</td>\n",
       "      <td>OBRA PUBLICA Y RECURSOS ETIQUETADOS</td>\n",
       "    </tr>\n",
       "    <tr>\n",
       "      <th>1</th>\n",
       "      <td>2015-01-30</td>\n",
       "      <td>73</td>\n",
       "      <td>CONSTCOMER, S.A. DE C.V.</td>\n",
       "      <td>CON-060323-F88</td>\n",
       "      <td>EQUIPAMIENTO  PARA PARQUES Y PLAZAS</td>\n",
       "      <td>12708960.0</td>\n",
       "      <td>NaT</td>\n",
       "      <td>OBRA PUBLICA Y RECURSOS ETIQUETADOS</td>\n",
       "    </tr>\n",
       "    <tr>\n",
       "      <th>2</th>\n",
       "      <td>2015-01-30</td>\n",
       "      <td>81</td>\n",
       "      <td>CONSTCOMER, S.A. DE C.V.</td>\n",
       "      <td>CON-060323-F88</td>\n",
       "      <td>EQUIPAMIENTO  PARA PARQUES Y PLAZAS</td>\n",
       "      <td>4346102.4</td>\n",
       "      <td>NaT</td>\n",
       "      <td>OBRA PUBLICA Y RECURSOS ETIQUETADOS</td>\n",
       "    </tr>\n",
       "    <tr>\n",
       "      <th>3</th>\n",
       "      <td>2015-01-26</td>\n",
       "      <td>01</td>\n",
       "      <td>SRIA. DE FIN.Y TESORERIA GRAL.DEL EDO.DE N.L.</td>\n",
       "      <td>GEN620601DTA</td>\n",
       "      <td>EX. DE CONTROL Y CONFIANZA PROG. SUBSEMUN 2014</td>\n",
       "      <td>4184000.0</td>\n",
       "      <td>NaT</td>\n",
       "      <td>OBRA PUBLICA Y RECURSOS ETIQUETADOS</td>\n",
       "    </tr>\n",
       "    <tr>\n",
       "      <th>4</th>\n",
       "      <td>2015-01-30</td>\n",
       "      <td>25</td>\n",
       "      <td>IMPULSORA INDUSTRIAL MONTERREY ,S.A.</td>\n",
       "      <td>IIM651101EVA</td>\n",
       "      <td>MATERIAL ELECTRICO</td>\n",
       "      <td>11460.8</td>\n",
       "      <td>NaT</td>\n",
       "      <td>PROVEEDORES</td>\n",
       "    </tr>\n",
       "  </tbody>\n",
       "</table>\n",
       "</div>"
      ],
      "text/plain": [
       "       FECHA FACTURA                                   BENEFICIARIO  \\\n",
       "0 2015-01-30      70                       CONSTCOMER, S.A. DE C.V.   \n",
       "1 2015-01-30      73                       CONSTCOMER, S.A. DE C.V.   \n",
       "2 2015-01-30      81                       CONSTCOMER, S.A. DE C.V.   \n",
       "3 2015-01-26      01  SRIA. DE FIN.Y TESORERIA GRAL.DEL EDO.DE N.L.   \n",
       "4 2015-01-30      25           IMPULSORA INDUSTRIAL MONTERREY ,S.A.   \n",
       "\n",
       "              RFC                                        CONCEPTO     IMPORTE  \\\n",
       "0  CON-060323-F88             EQUIPAMIENTO  PARA PARQUES Y PLAZAS   2173840.0   \n",
       "1  CON-060323-F88             EQUIPAMIENTO  PARA PARQUES Y PLAZAS  12708960.0   \n",
       "2  CON-060323-F88             EQUIPAMIENTO  PARA PARQUES Y PLAZAS   4346102.4   \n",
       "3    GEN620601DTA  EX. DE CONTROL Y CONFIANZA PROG. SUBSEMUN 2014   4184000.0   \n",
       "4    IIM651101EVA                              MATERIAL ELECTRICO     11460.8   \n",
       "\n",
       "  FECHA DEL PAGO POR CADENAS                               FUENTE  \n",
       "0                        NaT  OBRA PUBLICA Y RECURSOS ETIQUETADOS  \n",
       "1                        NaT  OBRA PUBLICA Y RECURSOS ETIQUETADOS  \n",
       "2                        NaT  OBRA PUBLICA Y RECURSOS ETIQUETADOS  \n",
       "3                        NaT  OBRA PUBLICA Y RECURSOS ETIQUETADOS  \n",
       "4                        NaT                          PROVEEDORES  "
      ]
     },
     "execution_count": 7,
     "metadata": {},
     "output_type": "execute_result"
    }
   ],
   "source": [
    "#Listar los campos del archivo\n",
    "df_2015.head(5)"
   ]
  },
  {
   "cell_type": "code",
   "execution_count": 10,
   "id": "4414d8b3-531e-4980-8367-2072ace6e1ad",
   "metadata": {},
   "outputs": [
    {
     "data": {
      "text/plain": [
       "FECHA                         datetime64[ns]\n",
       "FACTURA                               object\n",
       "BENEFICIARIO                          object\n",
       "RFC                                   object\n",
       "CONCEPTO                              object\n",
       "IMPORTE                              float64\n",
       "FECHA DEL PAGO POR CADENAS    datetime64[ns]\n",
       "FUENTE                                object\n",
       "dtype: object"
      ]
     },
     "execution_count": 10,
     "metadata": {},
     "output_type": "execute_result"
    }
   ],
   "source": [
    "#Tipo de datos\n",
    "df_2015.dtypes"
   ]
  },
  {
   "cell_type": "code",
   "execution_count": 9,
   "id": "79711dc0-44b8-4f86-9e90-3d0ca72351af",
   "metadata": {},
   "outputs": [],
   "source": [
    "#Creación de la fecha en DateTime\n",
    "df_2015[\"FECHA\"] = pd.to_datetime(df_2015[\"FECHA\"])"
   ]
  },
  {
   "cell_type": "code",
   "execution_count": 11,
   "id": "7bc2e899-3a74-4c90-9ddb-de2f10769104",
   "metadata": {},
   "outputs": [],
   "source": [
    "# Campo día\n",
    "df_2015[\"DIA\"] = df_2015[\"FECHA\"].apply(lambda x: x.day)"
   ]
  },
  {
   "cell_type": "code",
   "execution_count": 12,
   "id": "8e177540-c3fb-4364-8613-e776677c4c41",
   "metadata": {},
   "outputs": [],
   "source": [
    "# Campo mes\n",
    "df_2015[\"MES\"] = df_2015[\"FECHA\"].apply(lambda x: x.month)"
   ]
  },
  {
   "cell_type": "code",
   "execution_count": 14,
   "id": "25b3b837-7ed2-47a5-ab31-50ea5858fad4",
   "metadata": {},
   "outputs": [],
   "source": [
    "# Campo año\n",
    "df_2015[\"ANIO\"] = df_2015[\"FECHA\"].apply(lambda x: x.year)"
   ]
  },
  {
   "cell_type": "code",
   "execution_count": 15,
   "id": "aacf6876-e2a0-4ecc-8c93-0401a93b8cc2",
   "metadata": {},
   "outputs": [
    {
     "data": {
      "text/html": [
       "<div>\n",
       "<style scoped>\n",
       "    .dataframe tbody tr th:only-of-type {\n",
       "        vertical-align: middle;\n",
       "    }\n",
       "\n",
       "    .dataframe tbody tr th {\n",
       "        vertical-align: top;\n",
       "    }\n",
       "\n",
       "    .dataframe thead th {\n",
       "        text-align: right;\n",
       "    }\n",
       "</style>\n",
       "<table border=\"1\" class=\"dataframe\">\n",
       "  <thead>\n",
       "    <tr style=\"text-align: right;\">\n",
       "      <th></th>\n",
       "      <th>FECHA</th>\n",
       "      <th>FACTURA</th>\n",
       "      <th>BENEFICIARIO</th>\n",
       "      <th>RFC</th>\n",
       "      <th>CONCEPTO</th>\n",
       "      <th>IMPORTE</th>\n",
       "      <th>FECHA DEL PAGO POR CADENAS</th>\n",
       "      <th>FUENTE</th>\n",
       "      <th>DIA</th>\n",
       "      <th>mes</th>\n",
       "      <th>ANIO</th>\n",
       "    </tr>\n",
       "  </thead>\n",
       "  <tbody>\n",
       "    <tr>\n",
       "      <th>0</th>\n",
       "      <td>2015-01-30</td>\n",
       "      <td>70</td>\n",
       "      <td>CONSTCOMER, S.A. DE C.V.</td>\n",
       "      <td>CON-060323-F88</td>\n",
       "      <td>EQUIPAMIENTO  PARA PARQUES Y PLAZAS</td>\n",
       "      <td>2173840.0</td>\n",
       "      <td>NaT</td>\n",
       "      <td>OBRA PUBLICA Y RECURSOS ETIQUETADOS</td>\n",
       "      <td>30</td>\n",
       "      <td>1</td>\n",
       "      <td>2015</td>\n",
       "    </tr>\n",
       "    <tr>\n",
       "      <th>1</th>\n",
       "      <td>2015-01-30</td>\n",
       "      <td>73</td>\n",
       "      <td>CONSTCOMER, S.A. DE C.V.</td>\n",
       "      <td>CON-060323-F88</td>\n",
       "      <td>EQUIPAMIENTO  PARA PARQUES Y PLAZAS</td>\n",
       "      <td>12708960.0</td>\n",
       "      <td>NaT</td>\n",
       "      <td>OBRA PUBLICA Y RECURSOS ETIQUETADOS</td>\n",
       "      <td>30</td>\n",
       "      <td>1</td>\n",
       "      <td>2015</td>\n",
       "    </tr>\n",
       "    <tr>\n",
       "      <th>2</th>\n",
       "      <td>2015-01-30</td>\n",
       "      <td>81</td>\n",
       "      <td>CONSTCOMER, S.A. DE C.V.</td>\n",
       "      <td>CON-060323-F88</td>\n",
       "      <td>EQUIPAMIENTO  PARA PARQUES Y PLAZAS</td>\n",
       "      <td>4346102.4</td>\n",
       "      <td>NaT</td>\n",
       "      <td>OBRA PUBLICA Y RECURSOS ETIQUETADOS</td>\n",
       "      <td>30</td>\n",
       "      <td>1</td>\n",
       "      <td>2015</td>\n",
       "    </tr>\n",
       "    <tr>\n",
       "      <th>3</th>\n",
       "      <td>2015-01-26</td>\n",
       "      <td>01</td>\n",
       "      <td>SRIA. DE FIN.Y TESORERIA GRAL.DEL EDO.DE N.L.</td>\n",
       "      <td>GEN620601DTA</td>\n",
       "      <td>EX. DE CONTROL Y CONFIANZA PROG. SUBSEMUN 2014</td>\n",
       "      <td>4184000.0</td>\n",
       "      <td>NaT</td>\n",
       "      <td>OBRA PUBLICA Y RECURSOS ETIQUETADOS</td>\n",
       "      <td>26</td>\n",
       "      <td>1</td>\n",
       "      <td>2015</td>\n",
       "    </tr>\n",
       "    <tr>\n",
       "      <th>4</th>\n",
       "      <td>2015-01-30</td>\n",
       "      <td>25</td>\n",
       "      <td>IMPULSORA INDUSTRIAL MONTERREY ,S.A.</td>\n",
       "      <td>IIM651101EVA</td>\n",
       "      <td>MATERIAL ELECTRICO</td>\n",
       "      <td>11460.8</td>\n",
       "      <td>NaT</td>\n",
       "      <td>PROVEEDORES</td>\n",
       "      <td>30</td>\n",
       "      <td>1</td>\n",
       "      <td>2015</td>\n",
       "    </tr>\n",
       "  </tbody>\n",
       "</table>\n",
       "</div>"
      ],
      "text/plain": [
       "       FECHA FACTURA                                   BENEFICIARIO  \\\n",
       "0 2015-01-30      70                       CONSTCOMER, S.A. DE C.V.   \n",
       "1 2015-01-30      73                       CONSTCOMER, S.A. DE C.V.   \n",
       "2 2015-01-30      81                       CONSTCOMER, S.A. DE C.V.   \n",
       "3 2015-01-26      01  SRIA. DE FIN.Y TESORERIA GRAL.DEL EDO.DE N.L.   \n",
       "4 2015-01-30      25           IMPULSORA INDUSTRIAL MONTERREY ,S.A.   \n",
       "\n",
       "              RFC                                        CONCEPTO     IMPORTE  \\\n",
       "0  CON-060323-F88             EQUIPAMIENTO  PARA PARQUES Y PLAZAS   2173840.0   \n",
       "1  CON-060323-F88             EQUIPAMIENTO  PARA PARQUES Y PLAZAS  12708960.0   \n",
       "2  CON-060323-F88             EQUIPAMIENTO  PARA PARQUES Y PLAZAS   4346102.4   \n",
       "3    GEN620601DTA  EX. DE CONTROL Y CONFIANZA PROG. SUBSEMUN 2014   4184000.0   \n",
       "4    IIM651101EVA                              MATERIAL ELECTRICO     11460.8   \n",
       "\n",
       "  FECHA DEL PAGO POR CADENAS                               FUENTE  DIA  mes  \\\n",
       "0                        NaT  OBRA PUBLICA Y RECURSOS ETIQUETADOS   30    1   \n",
       "1                        NaT  OBRA PUBLICA Y RECURSOS ETIQUETADOS   30    1   \n",
       "2                        NaT  OBRA PUBLICA Y RECURSOS ETIQUETADOS   30    1   \n",
       "3                        NaT  OBRA PUBLICA Y RECURSOS ETIQUETADOS   26    1   \n",
       "4                        NaT                          PROVEEDORES   30    1   \n",
       "\n",
       "   ANIO  \n",
       "0  2015  \n",
       "1  2015  \n",
       "2  2015  \n",
       "3  2015  \n",
       "4  2015  "
      ]
     },
     "execution_count": 15,
     "metadata": {},
     "output_type": "execute_result"
    }
   ],
   "source": [
    "#Listar los campos del archivo\n",
    "df_2015.head(5)"
   ]
  },
  {
   "cell_type": "code",
   "execution_count": 23,
   "id": "47aa5e45-228a-44c1-a750-f5dc8d40baeb",
   "metadata": {},
   "outputs": [
    {
     "data": {
      "text/plain": [
       "['CAR ONE MONTERREY, S.A. DE C.V.',\n",
       " 'NUEVO GAS,S.A.DE C.V.',\n",
       " 'MEZCLAS DE ASFALTO Y CONCRETO, S.A. DE C.V.',\n",
       " 'GAS NUEVO MILENIO, S.A.DE C.V.',\n",
       " 'EMPACADORA Y DISTR.DE CARNES FINAS SAN JUAN,S.A.DE C.V.']"
      ]
     },
     "execution_count": 23,
     "metadata": {},
     "output_type": "execute_result"
    }
   ],
   "source": [
    "# Beneficiarios\n",
    "beneficiario_sales = df_2015[\"BENEFICIARIO\"].value_counts().to_dict()\n",
    "# Mostrar el resultado\n",
    "list(beneficiario_sales.keys())[:5]"
   ]
  },
  {
   "cell_type": "code",
   "execution_count": 22,
   "id": "3fb75650-ddc2-4145-bc8b-9e258b7ff741",
   "metadata": {},
   "outputs": [
    {
     "name": "stdout",
     "output_type": "stream",
     "text": [
      "{'PROVEEDORES': 7479, 'OBRA PUBLICA Y RECURSOS ETIQUETADOS': 1497, 'PUBLICIDAD': 477, 'CONTRATISTAS Y RECURSOS ETIQUETADOS': 438, 'SERVICIOS PERSONALES': 152, 'SERVICIOS MPRESONALES': 133, 'SERVICIOS PROFESIONALES': 58, 'HONORARIOS Y SERVICIOS PROFESIONALES': 41, 'GASTOS DE VIAJE, VIATICOS Y REPRESENTACION': 34, 'GASTOS DE VIAJE, VIATICOS T REPRESENTACION': 2, 'GASTOS DE REPRESENTACION, VIATICOS Y VIAJE': 1, 'ASESORIAS Y SERVICIOS PROFESIONALES': 1}\n"
     ]
    }
   ],
   "source": [
    "# Proveedores\n",
    "proveedor_sales = df_2015[\"FUENTE\"].value_counts().to_dict()\n",
    "\n",
    "# Mostrar el resultado\n",
    "print(proveedor_sales)"
   ]
  },
  {
   "cell_type": "code",
   "execution_count": 26,
   "id": "87d47d5e-2900-4dd1-b595-02663710436a",
   "metadata": {},
   "outputs": [
    {
     "data": {
      "text/html": [
       "<div>\n",
       "<style scoped>\n",
       "    .dataframe tbody tr th:only-of-type {\n",
       "        vertical-align: middle;\n",
       "    }\n",
       "\n",
       "    .dataframe tbody tr th {\n",
       "        vertical-align: top;\n",
       "    }\n",
       "\n",
       "    .dataframe thead th {\n",
       "        text-align: right;\n",
       "    }\n",
       "</style>\n",
       "<table border=\"1\" class=\"dataframe\">\n",
       "  <thead>\n",
       "    <tr style=\"text-align: right;\">\n",
       "      <th></th>\n",
       "      <th>FECHA</th>\n",
       "      <th>FACTURA</th>\n",
       "      <th>BENEFICIARIO</th>\n",
       "      <th>RFC</th>\n",
       "      <th>CONCEPTO</th>\n",
       "      <th>IMPORTE</th>\n",
       "      <th>FECHA DEL PAGO POR CADENAS</th>\n",
       "      <th>FUENTE</th>\n",
       "      <th>DIA</th>\n",
       "      <th>mes</th>\n",
       "      <th>ANIO</th>\n",
       "      <th>BENEFICIARIO_SALES</th>\n",
       "    </tr>\n",
       "  </thead>\n",
       "  <tbody>\n",
       "    <tr>\n",
       "      <th>0</th>\n",
       "      <td>2015-01-30</td>\n",
       "      <td>70</td>\n",
       "      <td>CONSTCOMER, S.A. DE C.V.</td>\n",
       "      <td>CON-060323-F88</td>\n",
       "      <td>EQUIPAMIENTO  PARA PARQUES Y PLAZAS</td>\n",
       "      <td>2173840.0</td>\n",
       "      <td>NaT</td>\n",
       "      <td>OBRA PUBLICA Y RECURSOS ETIQUETADOS</td>\n",
       "      <td>30</td>\n",
       "      <td>1</td>\n",
       "      <td>2015</td>\n",
       "      <td>4</td>\n",
       "    </tr>\n",
       "    <tr>\n",
       "      <th>1</th>\n",
       "      <td>2015-01-30</td>\n",
       "      <td>73</td>\n",
       "      <td>CONSTCOMER, S.A. DE C.V.</td>\n",
       "      <td>CON-060323-F88</td>\n",
       "      <td>EQUIPAMIENTO  PARA PARQUES Y PLAZAS</td>\n",
       "      <td>12708960.0</td>\n",
       "      <td>NaT</td>\n",
       "      <td>OBRA PUBLICA Y RECURSOS ETIQUETADOS</td>\n",
       "      <td>30</td>\n",
       "      <td>1</td>\n",
       "      <td>2015</td>\n",
       "      <td>4</td>\n",
       "    </tr>\n",
       "    <tr>\n",
       "      <th>2</th>\n",
       "      <td>2015-01-30</td>\n",
       "      <td>81</td>\n",
       "      <td>CONSTCOMER, S.A. DE C.V.</td>\n",
       "      <td>CON-060323-F88</td>\n",
       "      <td>EQUIPAMIENTO  PARA PARQUES Y PLAZAS</td>\n",
       "      <td>4346102.4</td>\n",
       "      <td>NaT</td>\n",
       "      <td>OBRA PUBLICA Y RECURSOS ETIQUETADOS</td>\n",
       "      <td>30</td>\n",
       "      <td>1</td>\n",
       "      <td>2015</td>\n",
       "      <td>4</td>\n",
       "    </tr>\n",
       "  </tbody>\n",
       "</table>\n",
       "</div>"
      ],
      "text/plain": [
       "       FECHA FACTURA              BENEFICIARIO             RFC  \\\n",
       "0 2015-01-30      70  CONSTCOMER, S.A. DE C.V.  CON-060323-F88   \n",
       "1 2015-01-30      73  CONSTCOMER, S.A. DE C.V.  CON-060323-F88   \n",
       "2 2015-01-30      81  CONSTCOMER, S.A. DE C.V.  CON-060323-F88   \n",
       "\n",
       "                              CONCEPTO     IMPORTE FECHA DEL PAGO POR CADENAS  \\\n",
       "0  EQUIPAMIENTO  PARA PARQUES Y PLAZAS   2173840.0                        NaT   \n",
       "1  EQUIPAMIENTO  PARA PARQUES Y PLAZAS  12708960.0                        NaT   \n",
       "2  EQUIPAMIENTO  PARA PARQUES Y PLAZAS   4346102.4                        NaT   \n",
       "\n",
       "                                FUENTE  DIA  mes  ANIO  BENEFICIARIO_SALES  \n",
       "0  OBRA PUBLICA Y RECURSOS ETIQUETADOS   30    1  2015                   4  \n",
       "1  OBRA PUBLICA Y RECURSOS ETIQUETADOS   30    1  2015                   4  \n",
       "2  OBRA PUBLICA Y RECURSOS ETIQUETADOS   30    1  2015                   4  "
      ]
     },
     "execution_count": 26,
     "metadata": {},
     "output_type": "execute_result"
    }
   ],
   "source": [
    "df_2015['BENEFICIARIO_SALES'] = df_2015['BENEFICIARIO'].apply(lambda x: beneficiario_sales[x])\n",
    "df_2015.head(3)"
   ]
  },
  {
   "cell_type": "code",
   "execution_count": 31,
   "id": "4f19dd87-bbc7-4620-8727-a3921484206a",
   "metadata": {},
   "outputs": [
    {
     "data": {
      "text/plain": [
       "BENEFICIARIO\n",
       "MUNICIPIO DE LA CIUDAD DE MONTERREY                             5.823137e+08\n",
       "COMERCIALIZADORA MEDIX,S.A.DE C.V.                              1.694037e+08\n",
       "RED RECOLECTOR, S.A. DE C.V.                                    1.444615e+08\n",
       "ARRENDADORA AFIRME,S.A.DE C.V.                                  9.285467e+07\n",
       "COMISION FEDERAL DE ELECTRICIDAD                                8.875935e+07\n",
       "SODEXO MOTIVATION SOLUTIONS MEXICO,S.A.DE C.V.                  8.336757e+07\n",
       "MEZCLAS DE ASFALTO Y CONCRETO, S.A. DE C.V.                     6.527196e+07\n",
       "S.U.T.S.M.M.                                                    6.157346e+07\n",
       "DISEÑOS Y ARQUITECTURAS SAN BERNABE, SA DE CV.                  5.885932e+07\n",
       "GAS NUEVO MILENIO, S.A.DE C.V.                                  5.691675e+07\n",
       "Name: IMPORTE, dtype: float64"
      ]
     },
     "execution_count": 31,
     "metadata": {},
     "output_type": "execute_result"
    }
   ],
   "source": [
    "# Suma de los importes por Beneficiario\n",
    "beneficiarios_mayor_carga  = df_2015.groupby(\"BENEFICIARIO\")[\"IMPORTE\"].sum().sort_values(ascending=False).head(10)\n",
    "beneficiarios_mayor_carga "
   ]
  },
  {
   "cell_type": "code",
   "execution_count": 36,
   "id": "ac661307-c72a-47c8-ab37-ae11c11b19ee",
   "metadata": {},
   "outputs": [
    {
     "data": {
      "text/plain": [
       "CONCEPTO\n",
       "NOMINA NETA PRIMER QUINCENA DICIEMBRE   2015  (1)                                            6.455242e+07\n",
       "REGISTRO NOM 1ER.Q DE OCT 2015                                                               4.437698e+07\n",
       "REGISTRO NOM 2DA.Q DE OCT 2015                                                               4.112692e+07\n",
       "RECU DEDU APORT SERV MED DE EMPLEA OCT-DIC-15                                                2.231655e+07\n",
       "NOMINA NETA PRIMER QUINCENA NOVIEMBRE   2015  (1)                                            2.188959e+07\n",
       "NOMINA NETA SEGUNDA QUINCENA NOVIEMBRE   2015  (1)                                           2.082625e+07\n",
       "EQUIPAMIENTO DE ESPACIOS DEPORTIVOS                                                          1.979393e+07\n",
       "INSENTIVO POR CONVENIO DE COORDINACION FISCAL Y CONTROL VEHICULAR POR EL COBRO DE MULTAS.    1.927392e+07\n",
       "NOMINA NETA SEGUNDA QUINCENA DICIEMBRE   2015  (1)                                           1.777937e+07\n",
       "DESC.SOB.NOM.1Q.DIC.2015                                                                     1.490680e+07\n",
       "Name: IMPORTE, dtype: float64"
      ]
     },
     "execution_count": 36,
     "metadata": {},
     "output_type": "execute_result"
    }
   ],
   "source": [
    "# Determinar el gasto promedio por CONCEPTO\n",
    "gasto_promedio_por_concepto = df_2015.groupby('CONCEPTO')['IMPORTE'].mean().sort_values(ascending=False).head(10)\n",
    "gasto_promedio_por_concepto"
   ]
  },
  {
   "cell_type": "code",
   "execution_count": 37,
   "id": "b82dfd96-fcf4-41f3-a394-6a516bac3946",
   "metadata": {},
   "outputs": [
    {
     "data": {
      "text/plain": [
       "FUENTE\n",
       "OBRA PUBLICA Y RECURSOS ETIQUETADOS           472170.199071\n",
       "ASESORIAS Y SERVICIOS PROFESIONALES           371200.000000\n",
       "SERVICIOS PROFESIONALES                       351771.930517\n",
       "CONTRATISTAS Y RECURSOS ETIQUETADOS           274574.278950\n",
       "PROVEEDORES                                   267052.594057\n",
       "PUBLICIDAD                                    106202.021614\n",
       "SERVICIOS MPRESONALES                          92311.473459\n",
       "SERVICIOS PERSONALES                           83574.216711\n",
       "GASTOS DE REPRESENTACION, VIATICOS Y VIAJE     50000.000000\n",
       "HONORARIOS Y SERVICIOS PROFESIONALES           48463.552195\n",
       "GASTOS DE VIAJE, VIATICOS Y REPRESENTACION     11545.591471\n",
       "GASTOS DE VIAJE, VIATICOS T REPRESENTACION      9500.000000\n",
       "Name: IMPORTE, dtype: float64"
      ]
     },
     "execution_count": 37,
     "metadata": {},
     "output_type": "execute_result"
    }
   ],
   "source": [
    "# Determinar el gasto promedio por cada categoría  (FUENTE)\n",
    "gasto_promedio_por_categoria = df_2015.groupby('FUENTE')['IMPORTE'].mean().sort_values(ascending=False)\n",
    "gasto_promedio_por_categoria"
   ]
  },
  {
   "cell_type": "code",
   "execution_count": 38,
   "id": "d4b9a9d5-8d4c-40d2-ad81-1df96537ee87",
   "metadata": {},
   "outputs": [
    {
     "data": {
      "text/plain": [
       "FECHA\n",
       "2015-12-29    2.347628e+08\n",
       "2015-01-30    1.885066e+08\n",
       "2015-12-30    1.253019e+08\n",
       "2015-05-29    1.007440e+08\n",
       "2015-12-01    8.543168e+07\n",
       "2015-10-30    8.358417e+07\n",
       "2015-04-30    6.757766e+07\n",
       "2015-12-18    6.747014e+07\n",
       "2015-12-31    6.654993e+07\n",
       "2015-12-24    6.226264e+07\n",
       "Name: IMPORTE, dtype: float64"
      ]
     },
     "execution_count": 38,
     "metadata": {},
     "output_type": "execute_result"
    }
   ],
   "source": [
    "# Determinar los gastos por fecha\n",
    "gastos_por_fecha = df_2015.groupby('FECHA')['IMPORTE'].sum().sort_values(ascending=False).head(10)\n",
    "gastos_por_fecha"
   ]
  },
  {
   "cell_type": "code",
   "execution_count": 39,
   "id": "6056fcd1-311c-4246-9a8c-be72cf067dcd",
   "metadata": {},
   "outputs": [
    {
     "data": {
      "text/plain": [
       "FUENTE\n",
       "PROVEEDORES                                   1.997286e+09\n",
       "OBRA PUBLICA Y RECURSOS ETIQUETADOS           7.068388e+08\n",
       "CONTRATISTAS Y RECURSOS ETIQUETADOS           1.202635e+08\n",
       "PUBLICIDAD                                    5.065836e+07\n",
       "SERVICIOS PROFESIONALES                       2.040277e+07\n",
       "SERVICIOS PERSONALES                          1.270328e+07\n",
       "SERVICIOS MPRESONALES                         1.227743e+07\n",
       "HONORARIOS Y SERVICIOS PROFESIONALES          1.987006e+06\n",
       "GASTOS DE VIAJE, VIATICOS Y REPRESENTACION    3.925501e+05\n",
       "ASESORIAS Y SERVICIOS PROFESIONALES           3.712000e+05\n",
       "GASTOS DE REPRESENTACION, VIATICOS Y VIAJE    5.000000e+04\n",
       "GASTOS DE VIAJE, VIATICOS T REPRESENTACION    1.900000e+04\n",
       "Name: IMPORTE, dtype: float64"
      ]
     },
     "execution_count": 39,
     "metadata": {},
     "output_type": "execute_result"
    }
   ],
   "source": [
    "# Análisis multidimensional 1: Gasto total por categoria de financiación\n",
    "gasto_total_por_fuente = df_2015.groupby('FUENTE')['IMPORTE'].sum().sort_values(ascending=False)\n",
    "gasto_total_por_fuente"
   ]
  },
  {
   "cell_type": "code",
   "execution_count": 40,
   "id": "abe38d99-096e-4249-a8fb-0895d8849c23",
   "metadata": {},
   "outputs": [
    {
     "data": {
      "text/plain": [
       "RFC\n",
       "MCM610101PT2      6.495864e+08\n",
       "CME900910RXA      1.807652e+08\n",
       "NO APLICA         1.676185e+08\n",
       "RRE-971222-2V9    1.066203e+08\n",
       "AAF931108RQ6      9.285467e+07\n",
       "CFE370814QI0      8.875935e+07\n",
       "PME811211B20      8.336757e+07\n",
       "MAC080910142      6.527196e+07\n",
       "DAS090804N44      5.885932e+07\n",
       "GNM020729FI0      5.795223e+07\n",
       "Name: IMPORTE, dtype: float64"
      ]
     },
     "execution_count": 40,
     "metadata": {},
     "output_type": "execute_result"
    }
   ],
   "source": [
    "# Análisis multidimensional 2: Gasto total por RFC\n",
    "gasto_total_por_rfc = df_2015.groupby('RFC')['IMPORTE'].sum().sort_values(ascending=False).head(10)\n",
    "gasto_total_por_rfc"
   ]
  },
  {
   "cell_type": "code",
   "execution_count": null,
   "id": "326256ef-ae11-48b7-83cf-5c4d14130205",
   "metadata": {},
   "outputs": [],
   "source": []
  }
 ],
 "metadata": {
  "kernelspec": {
   "display_name": "Python 3 (ipykernel)",
   "language": "python",
   "name": "python3"
  },
  "language_info": {
   "codemirror_mode": {
    "name": "ipython",
    "version": 3
   },
   "file_extension": ".py",
   "mimetype": "text/x-python",
   "name": "python",
   "nbconvert_exporter": "python",
   "pygments_lexer": "ipython3",
   "version": "3.11.7"
  }
 },
 "nbformat": 4,
 "nbformat_minor": 5
}
