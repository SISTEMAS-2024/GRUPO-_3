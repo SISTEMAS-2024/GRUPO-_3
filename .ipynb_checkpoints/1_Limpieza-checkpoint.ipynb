{
 "cells": [
  {
   "cell_type": "markdown",
   "id": "dd2348d0-9fb5-4bd8-9695-f000769f51f7",
   "metadata": {},
   "source": [
    "### Actividad Grupal: Análisis de Datos del Municipio de Monterrey (DATOS DEL 2015)\n",
    "### INTEGRANTES GRUPO 3:\n",
    "#### •\tALDAZ RIVERA DANI ALEXANDER \n",
    "#### •\tBONILLA VIMOS WASHINGTON RAMIRO\n",
    "\n",
    "### Parte 1 : Limpeza"
   ]
  },
  {
   "cell_type": "code",
   "execution_count": 1,
   "id": "e4c1f5ae-9430-4c47-bde1-157a40ddb6f7",
   "metadata": {},
   "outputs": [],
   "source": [
    "# importa la libreria de pandas\n",
    "import pandas as pd"
   ]
  },
  {
   "cell_type": "code",
   "execution_count": 2,
   "id": "40eff617-9553-42c2-9e8c-b3f519bda33a",
   "metadata": {},
   "outputs": [],
   "source": [
    "#importar la libreria del sistema operativo\n",
    "import os"
   ]
  },
  {
   "cell_type": "code",
   "execution_count": 3,
   "id": "36dd0a0f-554e-4411-b915-0fd5be6721e5",
   "metadata": {},
   "outputs": [],
   "source": [
    "# Ruta de la carpeta que contiene los archivos\n",
    "folder_path = r'C:\\data'"
   ]
  },
  {
   "cell_type": "code",
   "execution_count": 4,
   "id": "80625ddf-96d8-4f30-b187-cbe5b872febb",
   "metadata": {},
   "outputs": [],
   "source": [
    "# Lista para almacenar los DataFrames de cada archivo\n",
    "dataframes = []"
   ]
  },
  {
   "cell_type": "code",
   "execution_count": 5,
   "id": "0a8d987a-0c38-4b20-b3e9-ab64277b5e02",
   "metadata": {},
   "outputs": [],
   "source": [
    "# Leer los archivos numerados del 1 al 12\n",
    "for i in range(1, 13):\n",
    "    file_path = os.path.join(folder_path, f'{i}.xlsx')\n",
    "    # Cargar el archivo Excel en un DataFrame\n",
    "    df = pd.read_excel(file_path,skiprows=6)\n",
    "    # Añadir el DataFrame a la lista\n",
    "    dataframes.append(df)"
   ]
  },
  {
   "cell_type": "code",
   "execution_count": 6,
   "id": "8f271444-7277-45f1-98b9-757221f72d56",
   "metadata": {},
   "outputs": [
    {
     "name": "stderr",
     "output_type": "stream",
     "text": [
      "C:\\Users\\USUARIO\\AppData\\Local\\Temp\\ipykernel_29872\\3148699290.py:2: FutureWarning: The behavior of DataFrame concatenation with empty or all-NA entries is deprecated. In a future version, this will no longer exclude empty or all-NA columns when determining the result dtypes. To retain the old behavior, exclude the relevant entries before the concat operation.\n",
      "  df_2015 = pd.concat(dataframes, ignore_index=True)\n"
     ]
    }
   ],
   "source": [
    "# Concatenar todos los DataFrames en uno solo\n",
    "df_2015 = pd.concat(dataframes, ignore_index=True)"
   ]
  },
  {
   "cell_type": "code",
   "execution_count": 7,
   "id": "fc5f98af-066c-4600-9eb4-ceac4416c36e",
   "metadata": {},
   "outputs": [
    {
     "name": "stdout",
     "output_type": "stream",
     "text": [
      "                                 FECHA FACTURA  \\\n",
      "0  OBRA PUBLICA Y RECURSOS ETIQUETADOS     NaN   \n",
      "1                  2015-01-30 00:00:00      70   \n",
      "2                  2015-01-30 00:00:00      73   \n",
      "3                  2015-01-30 00:00:00      81   \n",
      "4                  2015-01-26 00:00:00      01   \n",
      "\n",
      "                                    BENEFICIARIO             RFC  \\\n",
      "0                                            NaN             NaN   \n",
      "1                       CONSTCOMER, S.A. DE C.V.  CON-060323-F88   \n",
      "2                       CONSTCOMER, S.A. DE C.V.  CON-060323-F88   \n",
      "3                       CONSTCOMER, S.A. DE C.V.  CON-060323-F88   \n",
      "4  SRIA. DE FIN.Y TESORERIA GRAL.DEL EDO.DE N.L.    GEN620601DTA   \n",
      "\n",
      "                                         CONCEPTO     IMPORTE  \\\n",
      "0                                             NaN         NaN   \n",
      "1             EQUIPAMIENTO  PARA PARQUES Y PLAZAS   2173840.0   \n",
      "2             EQUIPAMIENTO  PARA PARQUES Y PLAZAS  12708960.0   \n",
      "3             EQUIPAMIENTO  PARA PARQUES Y PLAZAS   4346102.4   \n",
      "4  EX. DE CONTROL Y CONFIANZA PROG. SUBSEMUN 2014   4184000.0   \n",
      "\n",
      "  FECHA DEL PAGO POR CADENAS  \n",
      "0                        NaT  \n",
      "1                        NaT  \n",
      "2                        NaT  \n",
      "3                        NaT  \n",
      "4                        NaT  \n"
     ]
    }
   ],
   "source": [
    "# Mostrar las primeras filas del DataFrame resultante\n",
    "print(df_2015.head())"
   ]
  },
  {
   "cell_type": "code",
   "execution_count": 8,
   "id": "e0e58857-fe7d-45cd-8719-3d2d118e83aa",
   "metadata": {},
   "outputs": [],
   "source": [
    "# Eliminar filas vacías y resetear el índice\n",
    "df_clean = df_2015.dropna(how='all').reset_index(drop=True)"
   ]
  },
  {
   "cell_type": "code",
   "execution_count": 9,
   "id": "76e0bf54-fe9c-4a42-bcda-c62db2210606",
   "metadata": {},
   "outputs": [],
   "source": [
    "# Inicializar la columna 'FUENTE' vacía\n",
    "df_clean['FUENTE'] = None"
   ]
  },
  {
   "cell_type": "code",
   "execution_count": 10,
   "id": "20e15ea5-c439-4ca3-ab24-badcc2ef48ed",
   "metadata": {},
   "outputs": [],
   "source": [
    "# Variable para almacenar el valor actual de 'FUENTE'\n",
    "current_fuente = None"
   ]
  },
  {
   "cell_type": "code",
   "execution_count": 11,
   "id": "d1588be1-bdd2-41a6-8e2e-0c9f17ccecaa",
   "metadata": {},
   "outputs": [
    {
     "name": "stdout",
     "output_type": "stream",
     "text": [
      "                                 FECHA FACTURA  \\\n",
      "0  OBRA PUBLICA Y RECURSOS ETIQUETADOS     NaN   \n",
      "1                  2015-01-30 00:00:00      70   \n",
      "2                  2015-01-30 00:00:00      73   \n",
      "3                  2015-01-30 00:00:00      81   \n",
      "4                  2015-01-26 00:00:00      01   \n",
      "\n",
      "                                    BENEFICIARIO             RFC  \\\n",
      "0                                            NaN             NaN   \n",
      "1                       CONSTCOMER, S.A. DE C.V.  CON-060323-F88   \n",
      "2                       CONSTCOMER, S.A. DE C.V.  CON-060323-F88   \n",
      "3                       CONSTCOMER, S.A. DE C.V.  CON-060323-F88   \n",
      "4  SRIA. DE FIN.Y TESORERIA GRAL.DEL EDO.DE N.L.    GEN620601DTA   \n",
      "\n",
      "                                         CONCEPTO     IMPORTE  \\\n",
      "0                                             NaN         NaN   \n",
      "1             EQUIPAMIENTO  PARA PARQUES Y PLAZAS   2173840.0   \n",
      "2             EQUIPAMIENTO  PARA PARQUES Y PLAZAS  12708960.0   \n",
      "3             EQUIPAMIENTO  PARA PARQUES Y PLAZAS   4346102.4   \n",
      "4  EX. DE CONTROL Y CONFIANZA PROG. SUBSEMUN 2014   4184000.0   \n",
      "\n",
      "  FECHA DEL PAGO POR CADENAS FUENTE  \n",
      "0                        NaT   None  \n",
      "1                        NaT   None  \n",
      "2                        NaT   None  \n",
      "3                        NaT   None  \n",
      "4                        NaT   None  \n"
     ]
    }
   ],
   "source": [
    "print(df_clean.head())"
   ]
  },
  {
   "cell_type": "code",
   "execution_count": 12,
   "id": "ebce7960-cbf4-4e9e-92b6-dfe531cfff81",
   "metadata": {},
   "outputs": [],
   "source": [
    "\n",
    "# Iterar sobre el DataFrame para asignar los valores de 'FUENTE'\n",
    "for index, row in df_clean.iterrows():\n",
    "    # Si la columna 'FACTURA' es NaN, significa que es un título\n",
    "    if pd.isna(row['FACTURA']):\n",
    "        current_fuente = row['FECHA']  # Usar este valor como el nuevo \"FUENTE\"\n",
    "    else:\n",
    "        df_clean.at[index, 'FUENTE'] = current_fuente  # Asignar el valor actual de \"FUENTE\" a las filas correspondientes\n"
   ]
  },
  {
   "cell_type": "code",
   "execution_count": 13,
   "id": "8c428d0c-08c2-4180-9b2c-2884dd31f739",
   "metadata": {},
   "outputs": [],
   "source": [
    "# Eliminar las filas que contienen los títulos (donde 'FACTURA' es NaN)\n",
    "df_clean = df_clean.dropna(subset=['FACTURA'])"
   ]
  },
  {
   "cell_type": "code",
   "execution_count": 14,
   "id": "7f7dd67b-3f6c-46a5-8b51-f5daa657cffe",
   "metadata": {},
   "outputs": [
    {
     "data": {
      "text/html": [
       "<div>\n",
       "<style scoped>\n",
       "    .dataframe tbody tr th:only-of-type {\n",
       "        vertical-align: middle;\n",
       "    }\n",
       "\n",
       "    .dataframe tbody tr th {\n",
       "        vertical-align: top;\n",
       "    }\n",
       "\n",
       "    .dataframe thead th {\n",
       "        text-align: right;\n",
       "    }\n",
       "</style>\n",
       "<table border=\"1\" class=\"dataframe\">\n",
       "  <thead>\n",
       "    <tr style=\"text-align: right;\">\n",
       "      <th></th>\n",
       "      <th>FECHA</th>\n",
       "      <th>FACTURA</th>\n",
       "      <th>BENEFICIARIO</th>\n",
       "      <th>RFC</th>\n",
       "      <th>CONCEPTO</th>\n",
       "      <th>IMPORTE</th>\n",
       "      <th>FECHA DEL PAGO POR CADENAS</th>\n",
       "      <th>FUENTE</th>\n",
       "    </tr>\n",
       "  </thead>\n",
       "  <tbody>\n",
       "    <tr>\n",
       "      <th>1</th>\n",
       "      <td>2015-01-30 00:00:00</td>\n",
       "      <td>70</td>\n",
       "      <td>CONSTCOMER, S.A. DE C.V.</td>\n",
       "      <td>CON-060323-F88</td>\n",
       "      <td>EQUIPAMIENTO  PARA PARQUES Y PLAZAS</td>\n",
       "      <td>2173840.0</td>\n",
       "      <td>NaT</td>\n",
       "      <td>OBRA PUBLICA Y RECURSOS ETIQUETADOS</td>\n",
       "    </tr>\n",
       "    <tr>\n",
       "      <th>2</th>\n",
       "      <td>2015-01-30 00:00:00</td>\n",
       "      <td>73</td>\n",
       "      <td>CONSTCOMER, S.A. DE C.V.</td>\n",
       "      <td>CON-060323-F88</td>\n",
       "      <td>EQUIPAMIENTO  PARA PARQUES Y PLAZAS</td>\n",
       "      <td>12708960.0</td>\n",
       "      <td>NaT</td>\n",
       "      <td>OBRA PUBLICA Y RECURSOS ETIQUETADOS</td>\n",
       "    </tr>\n",
       "    <tr>\n",
       "      <th>3</th>\n",
       "      <td>2015-01-30 00:00:00</td>\n",
       "      <td>81</td>\n",
       "      <td>CONSTCOMER, S.A. DE C.V.</td>\n",
       "      <td>CON-060323-F88</td>\n",
       "      <td>EQUIPAMIENTO  PARA PARQUES Y PLAZAS</td>\n",
       "      <td>4346102.4</td>\n",
       "      <td>NaT</td>\n",
       "      <td>OBRA PUBLICA Y RECURSOS ETIQUETADOS</td>\n",
       "    </tr>\n",
       "    <tr>\n",
       "      <th>4</th>\n",
       "      <td>2015-01-26 00:00:00</td>\n",
       "      <td>01</td>\n",
       "      <td>SRIA. DE FIN.Y TESORERIA GRAL.DEL EDO.DE N.L.</td>\n",
       "      <td>GEN620601DTA</td>\n",
       "      <td>EX. DE CONTROL Y CONFIANZA PROG. SUBSEMUN 2014</td>\n",
       "      <td>4184000.0</td>\n",
       "      <td>NaT</td>\n",
       "      <td>OBRA PUBLICA Y RECURSOS ETIQUETADOS</td>\n",
       "    </tr>\n",
       "    <tr>\n",
       "      <th>6</th>\n",
       "      <td>2015-01-30 00:00:00</td>\n",
       "      <td>25</td>\n",
       "      <td>IMPULSORA INDUSTRIAL MONTERREY ,S.A.</td>\n",
       "      <td>IIM651101EVA</td>\n",
       "      <td>MATERIAL ELECTRICO</td>\n",
       "      <td>11460.8</td>\n",
       "      <td>NaT</td>\n",
       "      <td>PROVEEDORES</td>\n",
       "    </tr>\n",
       "  </tbody>\n",
       "</table>\n",
       "</div>"
      ],
      "text/plain": [
       "                 FECHA FACTURA                                   BENEFICIARIO  \\\n",
       "1  2015-01-30 00:00:00      70                       CONSTCOMER, S.A. DE C.V.   \n",
       "2  2015-01-30 00:00:00      73                       CONSTCOMER, S.A. DE C.V.   \n",
       "3  2015-01-30 00:00:00      81                       CONSTCOMER, S.A. DE C.V.   \n",
       "4  2015-01-26 00:00:00      01  SRIA. DE FIN.Y TESORERIA GRAL.DEL EDO.DE N.L.   \n",
       "6  2015-01-30 00:00:00      25           IMPULSORA INDUSTRIAL MONTERREY ,S.A.   \n",
       "\n",
       "              RFC                                        CONCEPTO     IMPORTE  \\\n",
       "1  CON-060323-F88             EQUIPAMIENTO  PARA PARQUES Y PLAZAS   2173840.0   \n",
       "2  CON-060323-F88             EQUIPAMIENTO  PARA PARQUES Y PLAZAS  12708960.0   \n",
       "3  CON-060323-F88             EQUIPAMIENTO  PARA PARQUES Y PLAZAS   4346102.4   \n",
       "4    GEN620601DTA  EX. DE CONTROL Y CONFIANZA PROG. SUBSEMUN 2014   4184000.0   \n",
       "6    IIM651101EVA                              MATERIAL ELECTRICO     11460.8   \n",
       "\n",
       "  FECHA DEL PAGO POR CADENAS                               FUENTE  \n",
       "1                        NaT  OBRA PUBLICA Y RECURSOS ETIQUETADOS  \n",
       "2                        NaT  OBRA PUBLICA Y RECURSOS ETIQUETADOS  \n",
       "3                        NaT  OBRA PUBLICA Y RECURSOS ETIQUETADOS  \n",
       "4                        NaT  OBRA PUBLICA Y RECURSOS ETIQUETADOS  \n",
       "6                        NaT                          PROVEEDORES  "
      ]
     },
     "execution_count": 14,
     "metadata": {},
     "output_type": "execute_result"
    }
   ],
   "source": [
    "# Mostrar el DataFrame resultante con la columna \"FUENTE\"\n",
    "df_clean.head()"
   ]
  },
  {
   "cell_type": "code",
   "execution_count": 15,
   "id": "4b079678-6db5-4bd9-8451-e75d9b57e5b2",
   "metadata": {},
   "outputs": [],
   "source": [
    "# Guardar el DataFrame final si es necesario\n",
    "df_clean.to_excel(r'C:\\data\\2015.xlsx', index=False)"
   ]
  },
  {
   "cell_type": "code",
   "execution_count": null,
   "id": "36e41173-0059-44e8-85bd-02ab9493ed1f",
   "metadata": {},
   "outputs": [],
   "source": []
  }
 ],
 "metadata": {
  "kernelspec": {
   "display_name": "Python 3 (ipykernel)",
   "language": "python",
   "name": "python3"
  },
  "language_info": {
   "codemirror_mode": {
    "name": "ipython",
    "version": 3
   },
   "file_extension": ".py",
   "mimetype": "text/x-python",
   "name": "python",
   "nbconvert_exporter": "python",
   "pygments_lexer": "ipython3",
   "version": "3.11.7"
  }
 },
 "nbformat": 4,
 "nbformat_minor": 5
}
